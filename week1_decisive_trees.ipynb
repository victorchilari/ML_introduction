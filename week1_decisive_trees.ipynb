{
 "cells": [
  {
   "cell_type": "code",
   "execution_count": 1,
   "metadata": {
    "scrolled": false
   },
   "outputs": [],
   "source": [
    "def mostImportantClf(arrOfI, arrOfD, quantity):\n",
    "    rez_arr = []\n",
    "    \n",
    "    #\n",
    "    sortI = arrOfI.copy()\n",
    "    sortI.sort()\n",
    "    sortI[:] = sortI[::-1]\n",
    "    \n",
    "    z=0\n",
    "    while z < quantity:\n",
    "        imp_weight = sortI[z]\n",
    "        #imp_val = arrOfI.index(imp_weight)\n",
    "        imp_pos = np.where(arrOfI == imp_weight)\n",
    "        arrOfD = np.array(arrOfD)\n",
    "        field = arrOfD[imp_pos]\n",
    "        \n",
    "        rez_arr.extend(field)\n",
    "        z += 1\n",
    "    \n",
    "    return rez_arr"
   ]
  },
  {
   "cell_type": "code",
   "execution_count": 2,
   "metadata": {},
   "outputs": [],
   "source": [
    "import pandas\n",
    "data = pandas.read_csv('titanic.csv', index_col='PassengerId')"
   ]
  },
  {
   "cell_type": "code",
   "execution_count": 3,
   "metadata": {
    "scrolled": true
   },
   "outputs": [],
   "source": [
    "WORK_COLUMNS = ['Pclass', 'Fare', 'Age', 'Sex']\n",
    "dirty_df = pandas.DataFrame(data, columns=[*WORK_COLUMNS, 'Survived'])"
   ]
  },
  {
   "cell_type": "code",
   "execution_count": 4,
   "metadata": {},
   "outputs": [],
   "source": [
    "df = dirty_df.replace(\"female\", 0).replace(\"male\", 1)\n",
    "df = df.dropna()"
   ]
  },
  {
   "cell_type": "code",
   "execution_count": 5,
   "metadata": {},
   "outputs": [],
   "source": [
    "X = pandas.DataFrame(df, columns=WORK_COLUMNS)"
   ]
  },
  {
   "cell_type": "code",
   "execution_count": 6,
   "metadata": {},
   "outputs": [],
   "source": [
    "y = df['Survived']"
   ]
  },
  {
   "cell_type": "code",
   "execution_count": 7,
   "metadata": {},
   "outputs": [
    {
     "name": "stdout",
     "output_type": "stream",
     "text": [
      "[0.14000522 0.30343647 0.2560461  0.30051221]\n"
     ]
    }
   ],
   "source": [
    "import numpy as np\n",
    "from sklearn.tree import DecisionTreeClassifier\n",
    "\n",
    "X = np.array(X)\n",
    "\n",
    "clf = DecisionTreeClassifier(random_state=241)\n",
    "clf.fit(X, y)\n",
    "importances = clf.feature_importances_\n",
    "print(importances)"
   ]
  },
  {
   "cell_type": "code",
   "execution_count": 8,
   "metadata": {},
   "outputs": [
    {
     "name": "stdout",
     "output_type": "stream",
     "text": [
      "Fare Sex\n"
     ]
    }
   ],
   "source": [
    "arrMIC = mostImportantClf(importances, WORK_COLUMNS, 2)\n",
    "print(*arrMIC)"
   ]
  },
  {
   "cell_type": "code",
   "execution_count": 9,
   "metadata": {},
   "outputs": [],
   "source": [
    "f = open(\"Src 7.txt\", \"w\")\n",
    "f.write(arrMIC[0] + \" \" + arrMIC[1])\n",
    "f.close()"
   ]
  }
 ],
 "metadata": {
  "kernelspec": {
   "display_name": "Python 3",
   "language": "python",
   "name": "python3"
  },
  "language_info": {
   "codemirror_mode": {
    "name": "ipython",
    "version": 3
   },
   "file_extension": ".py",
   "mimetype": "text/x-python",
   "name": "python",
   "nbconvert_exporter": "python",
   "pygments_lexer": "ipython3",
   "version": "3.8.5"
  }
 },
 "nbformat": 4,
 "nbformat_minor": 4
}
